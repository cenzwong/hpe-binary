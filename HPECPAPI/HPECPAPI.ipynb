{
 "cells": [
  {
   "cell_type": "markdown",
   "id": "prostate-purchase",
   "metadata": {},
   "source": [
    "# HPECPAPI (Simplify version)"
   ]
  },
  {
   "cell_type": "markdown",
   "id": "restricted-bangkok",
   "metadata": {},
   "source": [
    "#### If you are in hurry --> click [this](#Code-Snip)"
   ]
  },
  {
   "cell_type": "markdown",
   "id": "vulnerable-chart",
   "metadata": {},
   "source": [
    "## Getting Session ID"
   ]
  },
  {
   "cell_type": "markdown",
   "id": "promising-payment",
   "metadata": {},
   "source": [
    "### Minimum request"
   ]
  },
  {
   "cell_type": "code",
   "execution_count": 19,
   "id": "informal-london",
   "metadata": {},
   "outputs": [
    {
     "name": "stdout",
     "output_type": "stream",
     "text": [
      "HTTP/1.1 201 Created\n",
      "\u001b[1mAccess-Control-Allow-Origin\u001b[0m: *\n",
      "\u001b[1mContent-Length\u001b[0m: 13\n",
      "\u001b[1mContent-Type\u001b[0m: text/plain\n",
      "\u001b[1mDate\u001b[0m: Fri, 30 Apr 2021 08:45:41 GMT\n",
      "\u001b[1mLocation\u001b[0m: /api/v2/session/0eb6b7bd-a990-4518-9fff-aa7f6b74e957\n",
      "\u001b[1mServer\u001b[0m: HPE Ezmeral Container Platform 5.3\n",
      "\n",
      "201 Created\n"
     ]
    }
   ],
   "source": [
    "curl -k -i -s --request POST \"http://your-gateway-ip.hpeilab.com:8080/api/v2/session\" \\\n",
    "--header 'Accept: application/json' \\\n",
    "--header 'Content-Type: application/json' \\\n",
    "--data-raw '{\n",
    "\"name\": \"username\",\n",
    "\"password\": \"password\",\n",
    "\"tenant_name\": \"test-tenant\"\n",
    "}'"
   ]
  },
  {
   "cell_type": "markdown",
   "id": "stainless-schema",
   "metadata": {},
   "source": [
    "### Request with variable"
   ]
  },
  {
   "cell_type": "code",
   "execution_count": 22,
   "id": "canadian-money",
   "metadata": {},
   "outputs": [
    {
     "name": "stdout",
     "output_type": "stream",
     "text": [
      "your working context is: hpecpcli-hpecpcli-test-tenant\n"
     ]
    }
   ],
   "source": [
    "#\n",
    "# environment variables to be adjusted/verified by the student\n",
    "#\n",
    "username=\"username\" # your HPE ECP tenant login credentials - username\n",
    "password=\"password\" # your HPE ECP tenant login credentials - password - \n",
    "#\n",
    "# fixed environment variables setup by the HPE ECP Lab administrator - please DO NOT MODIFY!!\n",
    "#\n",
    "HTTPs=\"http\"\n",
    "controller_endpoint=\"your-gateway-ip:8080\"\n",
    "gateway_host=\"your-gateway-ip\"\n",
    "tenantname=\"test-tenant\"\n",
    "tenantlowername=$(echo $tenantname | tr '[A-Z]' '[a-z]')\n",
    "\n",
    "echo \"your working context is:\" $username-$password-$tenantname "
   ]
  },
  {
   "cell_type": "code",
   "execution_count": 23,
   "id": "secure-jerusalem",
   "metadata": {},
   "outputs": [
    {
     "name": "stdout",
     "output_type": "stream",
     "text": [
      "HTTP/1.1 201 Created\n",
      "\u001b[1mAccess-Control-Allow-Origin\u001b[0m: *\n",
      "\u001b[1mContent-Length\u001b[0m: 13\n",
      "\u001b[1mContent-Type\u001b[0m: text/plain\n",
      "\u001b[1mDate\u001b[0m: Fri, 30 Apr 2021 08:46:00 GMT\n",
      "\u001b[1mLocation\u001b[0m: /api/v2/session/acc6e2a3-1795-4acc-a476-09f19a40affb\n",
      "\u001b[1mServer\u001b[0m: HPE Ezmeral Container Platform 5.3\n",
      "\n",
      "201 Created\n"
     ]
    }
   ],
   "source": [
    "curl -k -i -s --request POST \"${HTTPs}://${controller_endpoint}/api/v2/session\" \\\n",
    "--header 'Accept: application/json' \\\n",
    "--header 'Content-Type: application/json' \\\n",
    "--data-raw '{\n",
    "\"name\": \"'\"$username\"'\",\n",
    "\"password\": \"'\"$password\"'\",\n",
    "\"tenant_name\": \"'\"$tenantname\"'\"\n",
    "}'"
   ]
  },
  {
   "cell_type": "markdown",
   "id": "similar-idaho",
   "metadata": {},
   "source": [
    "## optaining the session location"
   ]
  },
  {
   "cell_type": "code",
   "execution_count": 24,
   "id": "annual-possible",
   "metadata": {},
   "outputs": [
    {
     "name": "stdout",
     "output_type": "stream",
     "text": [
      "/api/v2/session/69eacb50-b046-40ec-ab14-69962184b2d5\n"
     ]
    }
   ],
   "source": [
    "sessionlocation=$(curl -k -i -s --request POST \"${HTTPs}://${controller_endpoint}/api/v2/session\" \\\n",
    "--header 'Accept: application/json' \\\n",
    "--header 'Content-Type: application/json' \\\n",
    "--data-raw '{\n",
    "\"name\": \"'\"$username\"'\",\n",
    "\"password\": \"'\"$password\"'\",\n",
    "\"tenant_name\": \"'\"$tenantname\"'\"\n",
    "}' | grep Location | awk '{print $2}' | tr -d '\\r') #we remove any cr that might exist\n",
    "\n",
    "echo $sessionlocation"
   ]
  },
  {
   "cell_type": "code",
   "execution_count": 13,
   "id": "cooperative-punishment",
   "metadata": {},
   "outputs": [
    {
     "name": "stdout",
     "output_type": "stream",
     "text": [
      "your operation context is: hpecpcli on tenant test-tenant\n",
      "your REST API endpoint is: ez53-gateway.hpeilab.com:8080\n",
      "This is your session location:  /api/v2/session/641de4c9-f7b4-4e5f-85d2-26917334e7b2\n",
      "This is your session_Id: 641de4c9-f7b4-4e5f-85d2-26917334e7b2\n"
     ]
    }
   ],
   "source": [
    "tenantname=\"test-tenant\" #case sensitive\n",
    " \n",
    "echo \"your operation context is:\" $username \"on tenant\" $tenantname\n",
    "echo \"your REST API endpoint is:\" $controller_endpoint\n",
    "\n",
    "sessionlocation=$(curl -k -i -s --request POST \"http://${controller_endpoint}/api/v2/session\" \\\n",
    "--header 'Accept: application/json' \\\n",
    "--header 'Content-Type: application/json' \\\n",
    "--data-raw '{\n",
    "\"name\": \"'\"$username\"'\",\n",
    "\"password\": \"'\"$password\"'\",\n",
    "\"tenant_name\": \"'\"$tenantname\"'\"\n",
    "}' | grep Location | awk '{print $2}' | tr -d '\\r') #we remove any cr that might exist\n",
    "echo \"This is your session location: \" $sessionlocation\n",
    "SessionId=$(echo $sessionlocation | cut -d'/' -f 5) # extract sessionId for later, for logout\n",
    "echo \"This is your session_Id:\" $SessionId"
   ]
  },
  {
   "cell_type": "markdown",
   "id": "fluid-forward",
   "metadata": {},
   "source": [
    "## Getting the KUBECONFIG file"
   ]
  },
  {
   "cell_type": "markdown",
   "id": "distinct-blair",
   "metadata": {},
   "source": [
    "download the kubeconfig file to here"
   ]
  },
  {
   "cell_type": "code",
   "execution_count": 15,
   "id": "broadband-express",
   "metadata": {},
   "outputs": [],
   "source": [
    "curl -k -s --request GET \"http://${controller_endpoint}/api/v2/k8skubeconfig\" \\\n",
    "--header \"X-BDS-SESSION: $sessionlocation\" \\\n",
    "--header 'Accept: application/json' \\\n",
    "--header 'Content-Type: application/json' > ./kubeconfig"
   ]
  },
  {
   "cell_type": "markdown",
   "id": "authentic-container",
   "metadata": {},
   "source": [
    "assign the kubeconfig value to use that k8s session"
   ]
  },
  {
   "cell_type": "code",
   "execution_count": 25,
   "id": "expanded-houston",
   "metadata": {},
   "outputs": [
    {
     "name": "stdout",
     "output_type": "stream",
     "text": [
      "./kubeconfig\n"
     ]
    }
   ],
   "source": [
    "#define the Kubeconfig file as a shell environment variable to tell kubectl where to look for the kubeconfig file\n",
    "export KUBECONFIG=\"./kubeconfig\"\n",
    "echo $KUBECONFIG\n",
    "# kubectl config view"
   ]
  },
  {
   "cell_type": "code",
   "execution_count": 26,
   "id": "prompt-wrestling",
   "metadata": {},
   "outputs": [
    {
     "name": "stdout",
     "output_type": "stream",
     "text": [
      "NAME           READY   STATUS    RESTARTS   AGE\n",
      "kdss-qmwn5-0   1/1     Running   0          9d\n"
     ]
    }
   ],
   "source": [
    "kubectl get pod"
   ]
  },
  {
   "cell_type": "markdown",
   "id": "extensive-owner",
   "metadata": {},
   "source": [
    "#### Closing your login session"
   ]
  },
  {
   "cell_type": "code",
   "execution_count": 9,
   "id": "rational-gentleman",
   "metadata": {},
   "outputs": [
    {
     "name": "stdout",
     "output_type": "stream",
     "text": [
      "HTTP/1.1 204 No Content\n",
      "\u001b[1mAccess-Control-Allow-Origin\u001b[0m: *\n",
      "\u001b[1mContent-Length\u001b[0m: 0\n",
      "\u001b[1mContent-Type\u001b[0m: text/plain\n",
      "\u001b[1mDate\u001b[0m: Fri, 30 Apr 2021 09:19:04 GMT\n",
      "\u001b[1mServer\u001b[0m: HPE Ezmeral Container Platform 5.3\n",
      "\n"
     ]
    }
   ],
   "source": [
    "curl -k -i -s --request DELETE \"http://${controller_endpoint}/api/v2/session/${SessionId}\" \\\n",
    "--header \"X-BDS-SESSION: $sessionlocation\" \\\n",
    "--header 'Accept: application/json' \\\n",
    "--header 'Content-Type: application/json'"
   ]
  },
  {
   "cell_type": "code",
   "execution_count": 10,
   "id": "russian-afternoon",
   "metadata": {},
   "outputs": [
    {
     "name": "stdout",
     "output_type": "stream",
     "text": [
      "error: You must be logged in to the server (Unauthorized)\n"
     ]
    },
    {
     "ename": "",
     "evalue": "1",
     "output_type": "error",
     "traceback": []
    }
   ],
   "source": [
    "kubectl get pods"
   ]
  },
  {
   "cell_type": "markdown",
   "id": "regular-comparative",
   "metadata": {},
   "source": [
    "# Code Snip"
   ]
  },
  {
   "cell_type": "code",
   "execution_count": 1,
   "id": "furnished-upset",
   "metadata": {},
   "outputs": [
    {
     "name": "stdout",
     "output_type": "stream",
     "text": [
      "your working context is: hpecpcli-hpecpcli-test-tenant\n",
      "your operation context is: hpecpcli on tenant test-tenant\n",
      "your REST API endpoint is: ez53-gateway.hpeilab.com:8080\n"
     ]
    }
   ],
   "source": [
    "#\n",
    "# environment variables to be adjusted/verified by the student\n",
    "#\n",
    "username=\"username\" # your HPE ECP tenant login credentials - username\n",
    "password=\"ipassword\" # your HPE ECP tenant login credentials - password\n",
    "tenantname=\"test-tenant\"\n",
    "#\n",
    "# fixed environment variables setup by the HPE ECP Lab administrator\n",
    "#\n",
    "HTTPs=\"http\"\n",
    "controller_endpoint=\"ez53-gateway.hpeilab.com:8080\"\n",
    "gateway_host=\"ez53-gateway.hpeilab.com\"\n",
    "\n",
    "\n",
    "tenantlowername=$(echo $tenantname | tr '[A-Z]' '[a-z]')\n",
    "\n",
    "echo \"your working context is:\" $username-$password-$tenantname \n",
    "echo \"your operation context is:\" $username \"on tenant\" $tenantname\n",
    "echo \"your REST API endpoint is:\" $controller_endpoint"
   ]
  },
  {
   "cell_type": "code",
   "execution_count": 2,
   "id": "thousand-sharp",
   "metadata": {},
   "outputs": [
    {
     "name": "stdout",
     "output_type": "stream",
     "text": [
      "This is your session location:  /api/v2/session/4b163c1f-d890-4f5a-8c2a-40dc33847ce2\n",
      "This is your session_Id: 4b163c1f-d890-4f5a-8c2a-40dc33847ce2\n"
     ]
    }
   ],
   "source": [
    "sessionlocation=$(curl -k -i -s --request POST \"${HTTPs}://${controller_endpoint}/api/v2/session\" \\\n",
    "--header 'Accept: application/json' \\\n",
    "--header 'Content-Type: application/json' \\\n",
    "--data-raw '{\n",
    "\"name\": \"'\"$username\"'\",\n",
    "\"password\": \"'\"$password\"'\",\n",
    "\"tenant_name\": \"'\"$tenantname\"'\"\n",
    "}' | grep Location | awk '{print $2}' | tr -d '\\r') #we remove any cr that might exist\n",
    "echo \"This is your session location: \" $sessionlocation\n",
    "SessionId=$(echo $sessionlocation | cut -d'/' -f 5) # extract sessionId for later, for logout\n",
    "echo \"This is your session_Id:\" $SessionId"
   ]
  },
  {
   "cell_type": "code",
   "execution_count": 5,
   "id": "hidden-psychiatry",
   "metadata": {},
   "outputs": [],
   "source": [
    "curl -k -s --request GET \"http://${controller_endpoint}/api/v2/k8skubeconfig\" \\\n",
    "--header \"X-BDS-SESSION: $sessionlocation\" \\\n",
    "--header 'Accept: application/json' \\\n",
    "--header 'Content-Type: application/json' > ./kubeconfig\n",
    "\n",
    "export KUBECONFIG=\"./kubeconfig\""
   ]
  },
  {
   "cell_type": "code",
   "execution_count": 6,
   "id": "adopted-course",
   "metadata": {},
   "outputs": [
    {
     "name": "stdout",
     "output_type": "stream",
     "text": [
      "NAME           READY   STATUS    RESTARTS   AGE\n",
      "kdss-qmwn5-0   1/1     Running   0          9d\n"
     ]
    }
   ],
   "source": [
    "kubectl get pods"
   ]
  },
  {
   "cell_type": "markdown",
   "id": "traditional-backup",
   "metadata": {},
   "source": [
    "## Code (one-line)"
   ]
  },
  {
   "cell_type": "code",
   "execution_count": 1,
   "id": "electronic-bundle",
   "metadata": {},
   "outputs": [],
   "source": [
    "curl -k -s --request GET \"http://ez53-gateway.hpeilab.com:8080/api/v2/k8skubeconfig\" \\\n",
    "--header \"X-BDS-SESSION: $(curl -k -i -s --request POST \"http://ez53-gateway.hpeilab.com:8080/api/v2/session\" \\\n",
    "--header 'Accept: application/json' \\\n",
    "--header 'Content-Type: application/json' \\\n",
    "--data-raw '{\n",
    "\"name\": \"change-your-user-name\",\n",
    "\"password\": \"change-your-user-password\",\n",
    "\"tenant_name\": \"change-the-tenant-you-want\"\n",
    "}' | grep Location | awk '{print $2}' | tr -d '\\r')\" \\\n",
    "--header 'Accept: application/json' \\\n",
    "--header 'Content-Type: application/json' > ./kubeconfig\n",
    "\n",
    "export KUBECONFIG=\"./kubeconfig\""
   ]
  },
  {
   "cell_type": "code",
   "execution_count": 2,
   "id": "transsexual-funeral",
   "metadata": {},
   "outputs": [
    {
     "name": "stdout",
     "output_type": "stream",
     "text": [
      "NAME           READY   STATUS    RESTARTS   AGE\n",
      "kdss-qmwn5-0   1/1     Running   0          9d\n"
     ]
    }
   ],
   "source": [
    "kubectl get pods"
   ]
  },
  {
   "cell_type": "code",
   "execution_count": null,
   "id": "former-wheel",
   "metadata": {},
   "outputs": [],
   "source": []
  }
 ],
 "metadata": {
  "kernelspec": {
   "display_name": "Bash",
   "language": "bash",
   "name": "bash"
  },
  "language_info": {
   "codemirror_mode": "shell",
   "file_extension": ".sh",
   "mimetype": "text/x-sh",
   "name": "bash"
  }
 },
 "nbformat": 4,
 "nbformat_minor": 5
}
